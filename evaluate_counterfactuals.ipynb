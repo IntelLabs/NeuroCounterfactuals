{
 "cells": [
  {
   "cell_type": "code",
   "execution_count": null,
   "id": "b7d0dd3e-b418-499a-9843-b1b6f2215a19",
   "metadata": {},
   "outputs": [],
   "source": [
    "import pandas as pd\n",
    "import numpy as np\n",
    "import pickle\n",
    "import string\n",
    "import argparse\n",
    "import os\n",
    "import json\n",
    "import random\n",
    "import torch\n",
    "import urllib.request\n",
    "import pytreebank\n",
    "from nltk.tokenize import sent_tokenize\n",
    "from glob import glob\n",
    "from shutil import rmtree\n",
    "from pathlib import Path\n",
    "from transformers import AutoTokenizer, DataCollatorWithPadding, AutoModelForSequenceClassification, TrainingArguments, Trainer, EarlyStoppingCallback, logging\n",
    "from datasets import Dataset, load_metric, concatenate_datasets"
   ]
  },
  {
   "cell_type": "code",
   "execution_count": null,
   "id": "2f6c434a-e6d1-456b-be5b-2b30c78b7b51",
   "metadata": {},
   "outputs": [],
   "source": [
    "def compute_metrics(eval_preds):\n",
    "    metric = load_metric('accuracy')\n",
    "    logits, labels = eval_preds\n",
    "    predictions = np.argmax(logits, axis=-1)\n",
    "    return metric.compute(predictions=predictions, references=labels)"
   ]
  },
  {
   "cell_type": "code",
   "execution_count": null,
   "id": "c61b2337-220f-435b-b3b0-53c0539a91aa",
   "metadata": {},
   "outputs": [],
   "source": [
    "def load_counterfactuals(path, min_moverscore=None, max_moverscore=None, both_sentiment=False, keep_top=None, upsample=False, drop_duplicates=True):\n",
    "    with open(path, 'rb') as f:\n",
    "        counterfactuals = pickle.load(f)\n",
    "    if min_moverscore is not None:\n",
    "        counterfactuals = counterfactuals[(counterfactuals['moverscore'] >= min_moverscore)]\n",
    "    if max_moverscore is not None:\n",
    "        counterfactuals = counterfactuals[(counterfactuals['moverscore'] <= max_moverscore)]\n",
    "    if not both_sentiment:\n",
    "        counterfactuals = counterfactuals[(counterfactuals['original_label'] != counterfactuals['target_label'])]\n",
    "    if drop_duplicates:\n",
    "        counterfactuals = counterfactuals.drop_duplicates('counterfactual')\n",
    "    if keep_top is not None:\n",
    "        counterfactuals['original'] = counterfactuals['original'].apply(lambda x: ' '.join(x.split()))\n",
    "        counterfactuals = counterfactuals.sort_values(keep_top, ascending=False).drop_duplicates('original')\n",
    "    counterfactuals['label'] = counterfactuals['target_label'].apply(lambda x: 1 if x == 'POSITIVE' else -1)\n",
    "    if upsample:\n",
    "        n_class = counterfactuals['label'].value_counts().max()\n",
    "        counterfactuals = pd.concat([counterfactuals[counterfactuals['label'] == -1].sample(n_class, random_state=1, replace=True), counterfactuals[counterfactuals['label'] == 1].sample(n_class, random_state=1, replace=True)])\n",
    "    \n",
    "    return counterfactuals"
   ]
  },
  {
   "cell_type": "markdown",
   "id": "0e17859a-7014-4166-b0fb-dd1cd0849736",
   "metadata": {},
   "source": [
    "## Set random seed"
   ]
  },
  {
   "cell_type": "code",
   "execution_count": null,
   "id": "5b6f25f3-67f1-48af-a4fe-23d67950b1f3",
   "metadata": {},
   "outputs": [],
   "source": [
    "seed = 0\n",
    "\n",
    "random.seed(seed)\n",
    "np.random.seed(seed)\n",
    "torch.manual_seed(seed)\n",
    "torch.cuda.manual_seed_all(seed)"
   ]
  },
  {
   "cell_type": "markdown",
   "id": "31a0ffcf-9409-4cfc-ba65-82b724f7b5c4",
   "metadata": {},
   "source": [
    "## Load tokenizer and model"
   ]
  },
  {
   "cell_type": "code",
   "execution_count": null,
   "id": "17b7cc88-3067-4dc3-8f42-297a36d3de38",
   "metadata": {},
   "outputs": [],
   "source": [
    "model_name = 'roberta-base'\n",
    "dropout = 0.1"
   ]
  },
  {
   "cell_type": "code",
   "execution_count": null,
   "id": "889c6f11-f593-4510-90e7-2376898c0c44",
   "metadata": {},
   "outputs": [],
   "source": [
    "tokenizer = AutoTokenizer.from_pretrained(model_name)\n",
    "def preprocess_function(examples):\n",
    "    return tokenizer(examples[\"text\"], truncation=True)"
   ]
  },
  {
   "cell_type": "code",
   "execution_count": null,
   "id": "2dd033d0-b872-4a73-aaa5-afce99ac2a03",
   "metadata": {},
   "outputs": [],
   "source": [
    "data_collator = DataCollatorWithPadding(tokenizer=tokenizer)\n",
    "model = AutoModelForSequenceClassification.from_pretrained(model_name, num_labels=2, classifier_dropout=dropout)"
   ]
  },
  {
   "cell_type": "markdown",
   "id": "c743b135-35dc-4448-8641-4cf952df6356",
   "metadata": {},
   "source": [
    "## Download datasets"
   ]
  },
  {
   "cell_type": "code",
   "execution_count": null,
   "id": "92dc4525-591e-4d6b-9174-df6a2fa8bd98",
   "metadata": {},
   "outputs": [],
   "source": [
    "urllib.request.urlretrieve(\"https://github.com/tapilab/aaai-2021-counterfactuals/raw/main/data/ds_imdb_para.pkl\", \"data/ds_imdb_para.pkl\")\n",
    "urllib.request.urlretrieve(\"https://github.com/tapilab/aaai-2021-counterfactuals/raw/main/data/ds_imdb_sent.pkl\", \"data/ds_imdb_sent.pkl\")"
   ]
  },
  {
   "cell_type": "code",
   "execution_count": null,
   "id": "35f6af93-1cb9-4dfa-9ec5-1f622352903e",
   "metadata": {},
   "outputs": [],
   "source": [
    "urllib.request.urlretrieve(\"https://github.com/allenai/contrast-sets/raw/main/IMDb/data/test_contrast.tsv\", \"data/test_contrast.tsv\")"
   ]
  },
  {
   "cell_type": "markdown",
   "id": "74f73840-11ba-4e40-bc8e-b49c78025838",
   "metadata": {},
   "source": [
    "## Load datasets"
   ]
  },
  {
   "cell_type": "code",
   "execution_count": null,
   "id": "348483e1-2aeb-4076-90bf-f841a96f80ae",
   "metadata": {},
   "outputs": [],
   "source": [
    "class Counterfactual:\n",
    "    def __init__(self, df_train, df_test, moniker):\n",
    "        display(df_train.head(1))\n",
    "        self.moniker = moniker\n",
    "        self.train = df_train\n",
    "        self.test = df_test"
   ]
  },
  {
   "cell_type": "code",
   "execution_count": null,
   "id": "af857f45-90d8-4d64-af6a-a8989ab2124e",
   "metadata": {},
   "outputs": [],
   "source": [
    "train_data = {}\n",
    "with open('data/ds_imdb_sent.pkl', 'rb') as f:\n",
    "    imdb_sents = pickle.load(f)\n",
    "\n",
    "train_data['original'] = {'text' : imdb_sents.train.text.values, 'label' : imdb_sents.train.label.values}"
   ]
  },
  {
   "cell_type": "code",
   "execution_count": null,
   "id": "78f5d976-0bd9-4252-af08-f6db6240f343",
   "metadata": {},
   "outputs": [],
   "source": [
    "test_data = {}\n",
    "with open('data/ds_imdb_para.pkl', 'rb') as f:\n",
    "    imdb_para = pickle.load(f)\n",
    "    \n",
    "test_data['IMDB Original'] = {'text' : imdb_para.test.text.values, 'label' : imdb_para.test.label.values}\n",
    "test_data['IMDB Counterfactual'] = {'text' : imdb_para.test.ct_text_amt.values, 'label' : imdb_para.test.ct_label.values}\n",
    "\n",
    "contrast = pd.read_csv('data/test_contrast.tsv', sep='\\t')\n",
    "test_data['IMDB Contrast Sets'] = {'text' : contrast['Text'].to_numpy(), 'label' : contrast['Sentiment'].apply(lambda x: 1 if x == 'Positive' else -1).to_numpy()}"
   ]
  },
  {
   "cell_type": "code",
   "execution_count": null,
   "id": "0fb96295-facd-427f-8f3b-0372d87a826f",
   "metadata": {},
   "outputs": [],
   "source": [
    "contrast = pd.read_csv('data/test_contrast.tsv', sep='\\t')\n",
    "text = []; label = []; index = []\n",
    "for i in range(contrast.shape[0]):\n",
    "    sents = sent_tokenize(contrast.iloc[i]['Text'].replace('<br />',' '))\n",
    "    text += sents\n",
    "    label += [1 if contrast.iloc[i]['Sentiment'] == 'Positive' else -1 for _ in sents]\n",
    "    index += [i for _ in sents]\n",
    "    \n",
    "test_data['IMDB_Contrast_Sets'] = {'text' : np.asarray(text), 'label' : np.asarray(label), 'example_index' : np.asarray(index)}"
   ]
  },
  {
   "cell_type": "markdown",
   "id": "163f50cb-aa4a-4e71-a928-4601d3251306",
   "metadata": {},
   "source": [
    "#### Specify the type of NeuroCFs you want to evaluate"
   ]
  },
  {
   "cell_type": "code",
   "execution_count": null,
   "id": "a4d00dde-8221-4e0e-bc5e-c516b4467751",
   "metadata": {},
   "outputs": [],
   "source": [
    "NeuroCFs_type = 'NeuroCFs-np'\n",
    "# NeuroCFs_type = 'NeuroCFs-1g'"
   ]
  },
  {
   "cell_type": "code",
   "execution_count": null,
   "id": "11508d7e-5f86-4382-aea6-e82924c9e3b5",
   "metadata": {},
   "outputs": [],
   "source": [
    "ctf_path = os.path.join('output', NeuroCFs_type, 'counterfactuals.pkl')\n",
    "with open(ctf_path, 'rb') as f:\n",
    "    counterfactuals = pickle.load(f)\n",
    "    \n",
    "counterfactuals = counterfactuals[counterfactuals['counterfactual'].str.split().str.len() >= 3]\n",
    "train_data[NeuroCFs_type] = {'text' : np.concatenate([train_data['original']['text'], counterfactuals['counterfactual'].to_numpy()]), \n",
    "                             'label': np.concatenate([train_data['original']['label'], counterfactuals['label'].to_numpy()])}"
   ]
  },
  {
   "cell_type": "code",
   "execution_count": null,
   "id": "2250abb1-df2c-447e-b2d2-a5bc97b59236",
   "metadata": {},
   "outputs": [],
   "source": [
    "train_dataset = train_data[NeuroCFs_type]\n",
    "for k in train_dataset.keys():\n",
    "    train_dataset[k] = np.asarray(train_dataset[k])\n",
    "train_dataset['label'][train_dataset['label'] == -1] = 0\n",
    "\n",
    "train_dataset = Dataset.from_dict(train_dataset)\n",
    "train_dataset = train_dataset.train_test_split(test_size=0.2, seed=seed)\n",
    "\n",
    "val_dataset = train_dataset['test']\n",
    "train_dataset = train_dataset['train']\n",
    "\n",
    "train_dataset_tokenized = train_dataset.map(preprocess_function, batched=True)\n",
    "val_dataset_tokenized = val_dataset.map(preprocess_function, batched=True)"
   ]
  },
  {
   "cell_type": "markdown",
   "id": "c43934c7-bfae-4725-8b7c-028db20cbe9e",
   "metadata": {},
   "source": [
    "## Set hyperparameters"
   ]
  },
  {
   "cell_type": "code",
   "execution_count": null,
   "id": "436ae12e-7eba-4c20-aa4b-903ec34c573c",
   "metadata": {},
   "outputs": [],
   "source": [
    "training_args = TrainingArguments(\n",
    "    output_dir = 'checkpoints/',\n",
    "    learning_rate = 1e-6,\n",
    "    per_device_train_batch_size = 16,\n",
    "    per_device_eval_batch_size = 64,\n",
    "    weight_decay = 0.01,\n",
    "    lr_scheduler_type = 'linear',\n",
    "    warmup_ratio = 0,\n",
    "    evaluation_strategy = 'steps',\n",
    "    save_strategy = 'steps',\n",
    "    logging_strategy = 'steps',\n",
    "    save_total_limit = 1,\n",
    "    max_steps = 10000,\n",
    "    seed = seed,\n",
    "    logging_steps = 500,\n",
    "    save_steps = 500,\n",
    "    eval_steps = 500,\n",
    "    # num_train_epochs = args.num_train_epochs,\n",
    "    optim = 'adamw_hf',\n",
    "    load_best_model_at_end = True,\n",
    "    metric_for_best_model = 'eval_loss',\n",
    "    fp16= True\n",
    ")"
   ]
  },
  {
   "cell_type": "markdown",
   "id": "580acee2-7d12-45ad-97c8-e1fd7b04a8c3",
   "metadata": {},
   "source": [
    "## Train classifier"
   ]
  },
  {
   "cell_type": "code",
   "execution_count": null,
   "id": "39cea072-916e-455c-beb6-5c2d4bcd60a3",
   "metadata": {},
   "outputs": [],
   "source": [
    "trainer = Trainer(\n",
    "    model=model,\n",
    "    args=training_args,\n",
    "    train_dataset=train_dataset_tokenized,\n",
    "    eval_dataset=val_dataset_tokenized,\n",
    "    tokenizer=tokenizer,\n",
    "    data_collator=data_collator,\n",
    "    compute_metrics=compute_metrics,\n",
    "    callbacks = [EarlyStoppingCallback(early_stopping_patience = 5)]\n",
    ")\n",
    "\n",
    "logging.set_verbosity_error()\n",
    "train_output = trainer.train()"
   ]
  },
  {
   "cell_type": "code",
   "execution_count": null,
   "id": "dbe83dcb-a5aa-4112-b953-44e5a549d2c6",
   "metadata": {},
   "outputs": [],
   "source": [
    "train_output"
   ]
  },
  {
   "cell_type": "markdown",
   "id": "72029ebf-1b9a-44c0-af30-402469daa96a",
   "metadata": {},
   "source": [
    "## Evaluate model on test datasets"
   ]
  },
  {
   "cell_type": "code",
   "execution_count": null,
   "id": "ef76c95c-5965-40c3-9c40-f300d0f4c2a8",
   "metadata": {},
   "outputs": [],
   "source": [
    "test_results = []\n",
    "for test_name in test_data.keys():\n",
    "    test_dataset = test_data[test_name]\n",
    "    test_dataset['label'][test_dataset['label'] == -1] = 0\n",
    "    test_dataset = Dataset.from_dict(test_dataset)\n",
    "    test_dataset = test_dataset.map(preprocess_function, batched=True)\n",
    "    predictions = trainer.predict(test_dataset)\n",
    "    pred_metrics = pd.DataFrame(predictions[2], index=[test_name])\n",
    "    test_results.append(pred_metrics)\n",
    "\n",
    "test_results = pd.concat(test_results)"
   ]
  },
  {
   "cell_type": "code",
   "execution_count": null,
   "id": "fa29d65d-d5e4-418b-a2ee-ca26ca6b33a1",
   "metadata": {},
   "outputs": [],
   "source": [
    "test_results"
   ]
  }
 ],
 "metadata": {
  "kernelspec": {
   "display_name": "Python 3 (ipykernel)",
   "language": "python",
   "name": "python3"
  },
  "language_info": {
   "codemirror_mode": {
    "name": "ipython",
    "version": 3
   },
   "file_extension": ".py",
   "mimetype": "text/x-python",
   "name": "python",
   "nbconvert_exporter": "python",
   "pygments_lexer": "ipython3",
   "version": "3.12.4"
  }
 },
 "nbformat": 4,
 "nbformat_minor": 5
}
